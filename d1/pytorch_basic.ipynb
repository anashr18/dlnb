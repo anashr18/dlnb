{
 "cells": [
  {
   "cell_type": "code",
   "execution_count": 2,
   "metadata": {},
   "outputs": [],
   "source": [
    "import torch\n",
    "import torch.nn as nn\n",
    "# import torch.nn.functional as F\n"
   ]
  },
  {
   "cell_type": "code",
   "execution_count": 3,
   "metadata": {},
   "outputs": [],
   "source": [
    "class Mymodule(nn.Module):\n",
    "    def __init__(self):\n",
    "        super.__init__()\n",
    "        pass\n",
    "\n",
    "    def forward(self,x):\n",
    "        return x       \n",
    "\n"
   ]
  },
  {
   "cell_type": "code",
   "execution_count": 4,
   "metadata": {},
   "outputs": [],
   "source": [
    "class SimpleClassifier(nn.Module):\n",
    "    def __init__(self, num_input, num_hidden, num_output) -> None:\n",
    "        super().__init__()\n",
    "        self.linear1 = nn.Linear(num_input, num_hidden)\n",
    "        self.act_fn = nn.Tanh()\n",
    "        self.linear2 = nn.Linear(num_hidden, num_output)\n",
    "    def forward(self, x):\n",
    "        x = self.linear1(x)\n",
    "        x = self.act_fn(x)\n",
    "        x = self.linear2(x)\n",
    "        return x"
   ]
  },
  {
   "cell_type": "code",
   "execution_count": 5,
   "metadata": {},
   "outputs": [
    {
     "data": {
      "text/plain": [
       "SimpleClassifier(\n",
       "  (linear1): Linear(in_features=2, out_features=4, bias=True)\n",
       "  (act_fn): Tanh()\n",
       "  (linear2): Linear(in_features=4, out_features=1, bias=True)\n",
       ")"
      ]
     },
     "execution_count": 5,
     "metadata": {},
     "output_type": "execute_result"
    }
   ],
   "source": [
    "sc = SimpleClassifier(2, 4, 1)\n",
    "sc"
   ]
  },
  {
   "cell_type": "code",
   "execution_count": 6,
   "metadata": {},
   "outputs": [
    {
     "name": "stdout",
     "output_type": "stream",
     "text": [
      "parametrs linear1.weight in torch.Size([4, 2])\n",
      "parametrs linear1.bias in torch.Size([4])\n",
      "parametrs linear2.weight in torch.Size([1, 4])\n",
      "parametrs linear2.bias in torch.Size([1])\n"
     ]
    }
   ],
   "source": [
    "for name, param in sc.named_parameters():\n",
    "    print(f'parametrs {name} in {param.shape}')"
   ]
  },
  {
   "cell_type": "code",
   "execution_count": 7,
   "metadata": {},
   "outputs": [],
   "source": [
    "import torch.utils.data as data\n",
    "class XORDataset(data.Dataset):\n",
    "    def __init__(self, size, std=0.1):\n",
    "        super().__init__()\n",
    "        self.size = size\n",
    "        self.std = std\n",
    "        self.generate_xordata()\n",
    "    \n",
    "    def generate_xordata(self):\n",
    "        data = torch.randint(0,2, size=(self.size, 2), dtype=torch.float32)\n",
    "        # label = (data.sum(dim=1)==1).to(torch.long)\n",
    "        label = (torch.einsum('ij->i', data)==1).to(torch.long)\n",
    "        data += self.std * torch.randn(data.shape)\n",
    "        self.data = data\n",
    "        self.label = label\n",
    "        # print(data, label)\n",
    "    \n",
    "    def __len__(self):\n",
    "        return self.size\n",
    "    \n",
    "    def __getitem__(self, idx):\n",
    "        data_point =  self.data[idx]\n",
    "        data_label = self.label[idx]\n",
    "        return data_point, data_label\n"
   ]
  },
  {
   "cell_type": "code",
   "execution_count": 8,
   "metadata": {},
   "outputs": [
    {
     "data": {
      "text/plain": [
       "(tensor([[ 1.0414,  0.0557],\n",
       "         [ 1.1161,  1.0444],\n",
       "         [ 0.0033,  0.0692],\n",
       "         [ 0.1353,  0.0273],\n",
       "         [ 1.0736, -0.1233],\n",
       "         [-0.0176, -0.0610],\n",
       "         [ 1.0120,  1.0856],\n",
       "         [ 1.0145, -0.0622],\n",
       "         [-0.0306, -0.1285],\n",
       "         [-0.0654,  0.8529]]),\n",
       " tensor([1, 0, 0, 0, 1, 0, 0, 1, 0, 1]))"
      ]
     },
     "execution_count": 8,
     "metadata": {},
     "output_type": "execute_result"
    }
   ],
   "source": [
    "dataset = XORDataset(200)\n",
    "dataset[:10]"
   ]
  },
  {
   "cell_type": "code",
   "execution_count": 9,
   "metadata": {},
   "outputs": [],
   "source": [
    "data_point = dataset.data.cpu().numpy()\n",
    "label = dataset.label.cpu().numpy()\n",
    "data_0 = data_point[label==0]\n",
    "data_1 = data_point[label==1]"
   ]
  },
  {
   "cell_type": "code",
   "execution_count": 10,
   "metadata": {},
   "outputs": [
    {
     "data": {
      "text/plain": [
       "array([ 1.11606693e+00,  3.32913245e-03,  1.35329157e-01, -1.75854471e-02,\n",
       "        1.01195252e+00, -3.06042433e-02,  7.73348331e-01, -4.30479720e-02,\n",
       "        1.07286358e+00, -5.92759531e-03,  1.08094394e+00,  1.01923656e+00,\n",
       "        9.45694864e-01,  2.05851831e-02,  1.11167991e+00,  1.00837922e+00,\n",
       "        5.04787639e-02,  1.15819502e+00,  1.06330216e+00,  1.12851135e-01,\n",
       "        1.10275817e+00,  1.49751576e-02, -1.97253212e-01, -1.32333145e-01,\n",
       "        1.07356548e+00,  1.08744717e+00,  3.76285017e-02,  1.12313938e+00,\n",
       "        1.08732319e+00,  9.86769378e-01,  1.02329183e+00,  1.00470269e+00,\n",
       "        1.19384432e+00,  9.79264319e-01,  1.06499147e+00, -5.94552942e-02,\n",
       "        3.60889845e-02,  1.21517766e+00,  3.01112067e-02,  5.63427322e-02,\n",
       "        8.46768618e-01, -6.45466745e-02,  1.06827343e+00,  8.48283172e-01,\n",
       "        1.09797120e+00,  5.14986217e-02,  1.04082465e+00,  8.55012894e-01,\n",
       "        4.13925052e-02,  1.07534075e+00, -3.39505635e-02,  9.72154856e-01,\n",
       "       -1.67989537e-01, -1.38978228e-01, -6.37224838e-02,  9.47678566e-01,\n",
       "       -1.06563568e-01, -5.55801168e-02, -1.94596872e-01,  1.07136416e+00,\n",
       "       -6.92060292e-02,  8.29924107e-01,  8.90624583e-01,  1.12919249e-01,\n",
       "       -5.76891005e-02,  1.01730168e+00,  1.05741441e+00,  5.90830259e-02,\n",
       "       -4.91664372e-02,  1.09746385e+00, -3.72993350e-02,  3.20469677e-01,\n",
       "        1.04225862e+00, -1.06302440e-01,  1.02435648e+00,  1.22069156e+00,\n",
       "        7.87607431e-01,  9.95763958e-01,  1.05097663e+00,  4.94423322e-02,\n",
       "        1.00941360e+00,  1.10452425e+00,  1.08930099e+00,  9.52741742e-01,\n",
       "        9.27546263e-01,  9.29200351e-01,  2.74106171e-02,  1.00891662e+00,\n",
       "        9.36161220e-01, -1.61978871e-01,  9.40928698e-01,  6.87781200e-02,\n",
       "        9.60305214e-01,  1.01838422e+00, -6.28763065e-02,  1.13975978e+00,\n",
       "       -1.06562080e-03,  1.08860445e+00, -3.78261916e-02,  1.00135171e+00,\n",
       "        1.13495481e+00,  8.95094395e-01,  9.37066317e-01,  9.27498817e-01,\n",
       "        7.68709719e-01,  9.28887963e-01,  1.01187445e-01,  5.26480563e-02,\n",
       "        6.49645850e-02, -2.91910376e-02,  8.77705157e-01,  8.56959403e-01],\n",
       "      dtype=float32)"
      ]
     },
     "execution_count": 10,
     "metadata": {},
     "output_type": "execute_result"
    }
   ],
   "source": [
    "data_0[:,0]"
   ]
  },
  {
   "cell_type": "code",
   "execution_count": 11,
   "metadata": {},
   "outputs": [
    {
     "data": {
      "text/plain": [
       "<matplotlib.legend.Legend at 0x7f48b582d060>"
      ]
     },
     "execution_count": 11,
     "metadata": {},
     "output_type": "execute_result"
    },
    {
     "data": {
      "image/png": "[encoded data removed]",
      "text/plain": [
       "<Figure size 400x400 with 1 Axes>"
      ]
     },
     "metadata": {},
     "output_type": "display_data"
    }
   ],
   "source": [
    "import matplotlib.pyplot as plt\n",
    "plt.figure(figsize=(4,4))\n",
    "plt.scatter(data_0[:,0], data_0[:,1], edgecolor=\"#333\", label=\"Class 0\")\n",
    "plt.scatter(data_1[:,0], data_1[:,1], edgecolor=\"#333\", label=\"Class 1\")\n",
    "plt.legend()"
   ]
  },
  {
   "cell_type": "code",
   "execution_count": 12,
   "metadata": {},
   "outputs": [
    {
     "data": {
      "text/plain": [
       "(tensor([[ 0.8472, -0.0839],\n",
       "         [ 0.8570,  1.1322],\n",
       "         [ 1.1350,  0.9184],\n",
       "         [ 1.0893,  0.9566],\n",
       "         [-0.0492, -0.1300],\n",
       "         [ 0.0028,  1.1098],\n",
       "         [-0.1066,  0.0931],\n",
       "         [-0.0637, -0.1090]]),\n",
       " tensor([1, 0, 0, 0, 0, 1, 0, 0]))"
      ]
     },
     "execution_count": 12,
     "metadata": {},
     "output_type": "execute_result"
    }
   ],
   "source": [
    "data_loader = data.DataLoader(dataset, batch_size=8, shuffle=True)\n",
    "data_point, data_label = next(iter(data_loader))\n",
    "data_point, data_label"
   ]
  },
  {
   "cell_type": "code",
   "execution_count": 13,
   "metadata": {},
   "outputs": [],
   "source": [
    "loss_module = nn.BCEWithLogitsLoss(reduction='none')\n",
    "optim = torch.optim.SGD(sc.parameters(), lr=0.1)"
   ]
  },
  {
   "cell_type": "markdown",
   "metadata": {},
   "source": [
    "Training\n"
   ]
  },
  {
   "cell_type": "code",
   "execution_count": 14,
   "metadata": {},
   "outputs": [
    {
     "name": "stdout",
     "output_type": "stream",
     "text": [
      "tensor([[ 0.9945,  0.0300],\n",
      "        [ 0.0884, -0.2115],\n",
      "        [ 0.8879,  1.0318],\n",
      "        [ 0.8497,  0.0394],\n",
      "        [ 0.9583,  0.9057],\n",
      "        [ 0.0723,  0.9564],\n",
      "        [ 0.9347,  0.0740],\n",
      "        [-0.0852, -0.0420],\n",
      "        [ 0.0457,  1.0335],\n",
      "        [ 0.8802,  0.9249],\n",
      "        [ 0.9165,  1.0530],\n",
      "        [ 0.0014, -0.0714],\n",
      "        [ 0.7561,  1.0813],\n",
      "        [ 1.0700, -0.0505],\n",
      "        [ 1.0609, -0.1214],\n",
      "        [ 0.0704, -0.1494],\n",
      "        [-0.1099,  1.0338],\n",
      "        [ 1.0103,  1.0358],\n",
      "        [ 1.0007,  0.9530],\n",
      "        [ 1.0904, -0.0236],\n",
      "        [ 0.1169,  0.0894],\n",
      "        [ 1.1157,  0.1625],\n",
      "        [-0.0909,  0.9440],\n",
      "        [ 1.1520,  0.0040],\n",
      "        [ 0.0477,  0.0601],\n",
      "        [ 0.0613, -0.0667],\n",
      "        [-0.0350,  1.0054],\n",
      "        [ 0.9060,  0.0678],\n",
      "        [ 0.0757,  1.0340],\n",
      "        [ 0.9971,  0.8979],\n",
      "        [ 0.0547, -0.0606],\n",
      "        [ 1.2099,  1.0180],\n",
      "        [ 0.0135, -0.0745],\n",
      "        [ 1.1047, -0.1518],\n",
      "        [ 0.0403, -0.1705],\n",
      "        [ 1.0862,  0.9201],\n",
      "        [ 0.0233,  0.1121],\n",
      "        [ 0.1636,  0.0824],\n",
      "        [ 1.0092,  0.7770],\n",
      "        [-0.1121,  0.0223],\n",
      "        [-0.1215,  1.0593],\n",
      "        [-0.0467,  0.9995],\n",
      "        [ 1.0246,  0.0673],\n",
      "        [ 0.9083,  0.8991],\n",
      "        [-0.0799, -0.2231],\n",
      "        [-0.0056, -0.0181],\n",
      "        [ 0.3328,  0.9752],\n",
      "        [ 0.9467,  0.0614],\n",
      "        [ 0.9918,  0.0401],\n",
      "        [ 0.0985,  1.0448],\n",
      "        [ 1.0715,  1.0386],\n",
      "        [-0.0929,  0.9251],\n",
      "        [-0.0019,  0.9851],\n",
      "        [ 0.8553,  0.8971],\n",
      "        [ 1.0012,  0.1342],\n",
      "        [-0.1464,  0.8914],\n",
      "        [ 1.0856,  0.2131],\n",
      "        [ 1.0569,  0.9177],\n",
      "        [ 1.0238, -0.0375],\n",
      "        [ 0.8800,  0.9340],\n",
      "        [ 0.9764,  0.9409],\n",
      "        [ 1.0049,  1.0249],\n",
      "        [ 0.9731,  0.8740],\n",
      "        [ 0.0089,  0.0333],\n",
      "        [ 0.0879,  0.9980],\n",
      "        [ 1.0392,  1.1329],\n",
      "        [-0.1109,  0.8870],\n",
      "        [ 1.1289,  0.0885],\n",
      "        [-0.0622,  0.0645],\n",
      "        [ 0.9966,  1.0443],\n",
      "        [-0.0235, -0.0525],\n",
      "        [ 0.0727,  0.0455],\n",
      "        [ 0.1510,  0.9885],\n",
      "        [-0.1007,  0.0468],\n",
      "        [-0.0932,  1.1744],\n",
      "        [ 0.9593,  0.8633],\n",
      "        [ 0.1574,  0.8637],\n",
      "        [-0.0243,  0.9138],\n",
      "        [ 0.9407,  0.1359],\n",
      "        [ 0.9502, -0.0942],\n",
      "        [ 0.0015,  0.9964],\n",
      "        [ 0.0272,  0.9058],\n",
      "        [ 1.0694,  0.9413],\n",
      "        [ 0.9765,  0.0566],\n",
      "        [ 0.9440,  0.8515],\n",
      "        [ 0.9390,  0.9618],\n",
      "        [ 1.0725, -0.0944],\n",
      "        [ 0.0544,  0.0473],\n",
      "        [ 0.9548,  0.0016],\n",
      "        [ 1.2391,  1.0108],\n",
      "        [-0.0861, -0.0232],\n",
      "        [-0.0250,  0.0103],\n",
      "        [ 0.0375,  0.1452],\n",
      "        [-0.0460,  0.9725],\n",
      "        [ 1.0734,  0.0304],\n",
      "        [ 1.0309,  0.9836],\n",
      "        [ 0.0021,  0.9985],\n",
      "        [ 1.0427,  0.0019],\n",
      "        [-0.0441,  0.0635],\n",
      "        [ 0.0737,  0.0953],\n",
      "        [ 0.9463, -0.0845],\n",
      "        [ 1.1271,  1.0924],\n",
      "        [ 0.7932,  0.0284],\n",
      "        [-0.0635,  0.0156],\n",
      "        [ 1.0458,  1.0018],\n",
      "        [ 0.9182, -0.1427],\n",
      "        [ 0.9385,  0.1117],\n",
      "        [ 0.8974, -0.0566],\n",
      "        [ 0.0267,  0.8346],\n",
      "        [ 0.1042, -0.0299],\n",
      "        [-0.0251,  0.9216],\n",
      "        [ 0.9698,  1.2145],\n",
      "        [ 1.0384,  0.9537],\n",
      "        [ 0.9296,  0.0867],\n",
      "        [ 1.0343,  0.0729],\n",
      "        [ 0.8415, -0.0261],\n",
      "        [ 0.8629, -0.1441],\n",
      "        [ 0.8480,  1.0333],\n",
      "        [ 1.0261,  0.0351],\n",
      "        [ 0.9133, -0.1156],\n",
      "        [ 0.8866, -0.0265],\n",
      "        [ 1.0031,  0.9181],\n",
      "        [ 1.0533,  0.0588],\n",
      "        [ 0.9631,  0.9958],\n",
      "        [-0.0808,  1.0299],\n",
      "        [ 0.0162,  1.1838],\n",
      "        [-0.1566,  0.9327],\n",
      "        [-0.0675,  0.8089]]) tensor([1, 0, 0, 1, 0, 1, 1, 0, 1, 0, 0, 0, 0, 1, 1, 0, 1, 0, 0, 1, 0, 1, 1, 1,\n",
      "        0, 0, 1, 1, 1, 0, 0, 0, 0, 1, 0, 0, 0, 0, 0, 0, 1, 1, 1, 0, 0, 0, 1, 1,\n",
      "        1, 1, 0, 1, 1, 0, 1, 1, 1, 0, 1, 0, 0, 0, 0, 0, 1, 0, 1, 1, 0, 0, 0, 0,\n",
      "        1, 0, 1, 0, 1, 1, 1, 1, 1, 1, 0, 1, 0, 0, 1, 0, 1, 0, 0, 0, 0, 1, 1, 0,\n",
      "        1, 1, 0, 0, 1, 0, 1, 0, 0, 1, 1, 1, 1, 0, 1, 0, 0, 1, 1, 1, 1, 0, 1, 1,\n",
      "        1, 0, 1, 0, 1, 1, 1, 1])\n"
     ]
    }
   ],
   "source": [
    "import torch.utils.data as data\n",
    "train_dataset = XORDataset(2500)\n",
    "train_dataLoader = data.DataLoader(train_dataset, batch_size=128, shuffle=True)\n",
    "data_point, data_label = next(iter(train_dataLoader))\n",
    "print(data_point, data_label)"
   ]
  },
  {
   "cell_type": "code",
   "execution_count": 15,
   "metadata": {},
   "outputs": [
    {
     "data": {
      "text/plain": [
       "device(type='cuda')"
      ]
     },
     "execution_count": 15,
     "metadata": {},
     "output_type": "execute_result"
    }
   ],
   "source": [
    "device = torch.device(\"cuda\") if torch.cuda.is_available() else torch.device(\"cpu\")\n",
    "sc.to(device)\n",
    "device"
   ]
  },
  {
   "cell_type": "code",
   "execution_count": null,
   "metadata": {},
   "outputs": [],
   "source": []
  },
  {
   "cell_type": "code",
   "execution_count": 16,
   "metadata": {},
   "outputs": [],
   "source": [
    "def train_model(model, data_loader, optimizer, loss_module, num_epochs=100):\n",
    "    model.train()\n",
    "\n",
    "    for epoch in (range(num_epochs)):\n",
    "        for data_input, data_label in data_loader:\n",
    "            data_input = data_input.to(device)\n",
    "            data_label = data_label.to(device)\n",
    "            preds = model(data_input)\n",
    "            # print(preds.shape)\n",
    "            preds = torch.einsum('ij->i', preds)\n",
    "            # print(preds.shape)\n",
    "            loss = loss_module(preds, data_label.float())\n",
    "            # print(loss.shape)\n",
    "            # zero_grad\n",
    "            optim.zero_grad()\n",
    "            # perfrom gradient and nachprop\n",
    "            loss.backward()\n",
    "            # update grads\n",
    "            optim.step()\n"
   ]
  },
  {
   "cell_type": "code",
   "execution_count": 17,
   "metadata": {},
   "outputs": [],
   "source": [
    "import torch.utils.data as data\n",
    "def create_dataloader(num_data, batch_size, shuffle):\n",
    "    train_dataset = XORDataset(num_data)\n",
    "    train_dataLoader = data.DataLoader(train_dataset, batch_size=batch_size, shuffle=shuffle)\n",
    "    # data_point, data_label = next(iter(train_dataLoader))\n",
    "    return train_dataLoader"
   ]
  },
  {
   "cell_type": "code",
   "execution_count": 18,
   "metadata": {},
   "outputs": [
    {
     "name": "stdout",
     "output_type": "stream",
     "text": [
      "Parameter linear1.weight, shape torch.Size([4, 2])\n",
      "Parameter linear1.bias, shape torch.Size([4])\n",
      "Parameter linear2.weight, shape torch.Size([1, 4])\n",
      "Parameter linear2.bias, shape torch.Size([1])\n"
     ]
    }
   ],
   "source": [
    "for name, param in sc.named_parameters():\n",
    "    print(f\"Parameter {name}, shape {param.shape}\")"
   ]
  },
  {
   "cell_type": "code",
   "execution_count": 19,
   "metadata": {},
   "outputs": [
    {
     "name": "stdout",
     "output_type": "stream",
     "text": [
      "num of batches:: 20\n"
     ]
    }
   ],
   "source": [
    "# sample training run\n",
    "sc = SimpleClassifier(2,4,1).to(device)\n",
    "# this will return loss corresponning to each record in batch \n",
    "loss_module = nn.BCEWithLogitsLoss(reduction='none')\n",
    "# this will reduce the loss by sum\n",
    "loss_module = nn.BCEWithLogitsLoss(reduction='mean')\n",
    "optim = torch.optim.SGD(sc.parameters(), lr=0.1)\n",
    "train_dataLoader = create_dataloader(2500, 128, True)\n",
    "print(f'num of batches:: {len(train_dataLoader)}')\n"
   ]
  },
  {
   "cell_type": "code",
   "execution_count": 26,
   "metadata": {},
   "outputs": [],
   "source": [
    "train_model(sc, create_dataloader(2500, 128, True), optim, loss_module, 30)"
   ]
  },
  {
   "cell_type": "code",
   "execution_count": 28,
   "metadata": {},
   "outputs": [],
   "source": [
    "sc_state_dict = sc.state_dict()\n",
    "torch.save(sc_state_dict, \"simpleclassifier.tar\")"
   ]
  },
  {
   "cell_type": "markdown",
   "metadata": {},
   "source": [
    "Eval"
   ]
  },
  {
   "cell_type": "code",
   "execution_count": 27,
   "metadata": {},
   "outputs": [
    {
     "data": {
      "text/plain": [
       "4"
      ]
     },
     "execution_count": 27,
     "metadata": {},
     "output_type": "execute_result"
    }
   ],
   "source": [
    "test_dataloader = create_dataloader(500, 128, True)\n",
    "len(test_dataloader)"
   ]
  },
  {
   "cell_type": "code",
   "execution_count": 29,
   "metadata": {},
   "outputs": [],
   "source": [
    "def eval_model(model, data_loader):\n",
    "    model.eval()\n",
    "    true_pred, num_pred = 0, 0\n",
    "    with torch.no_grad():\n",
    "        for data_input, data_label in data_loader:\n",
    "            data_input, data_label = data_input.to(device), data_label.to(device)\n",
    "            preds = model(data_input)\n",
    "            preds = preds.squeeze(dim=1)\n",
    "            preds = torch.sigmoid(preds)\n",
    "            pred_label = (preds>0.5).to(torch.long)\n",
    "            true_pred += (pred_label==data_label).sum()\n",
    "            print(true_pred)\n",
    "            num_pred += data_label.shape[0]\n",
    "            print(num_pred)\n",
    "            # print(pred_label.shape)\n",
    "            # print(data_label.shape)\n",
    "    acc = true_pred/num_pred\n",
    "    print(f'accuracy:: {acc}')"
   ]
  },
  {
   "cell_type": "code",
   "execution_count": 30,
   "metadata": {},
   "outputs": [
    {
     "name": "stdout",
     "output_type": "stream",
     "text": [
      "tensor(128, device='cuda:0')\n",
      "128\n",
      "tensor(256, device='cuda:0')\n",
      "256\n",
      "tensor(384, device='cuda:0')\n",
      "384\n",
      "tensor(500, device='cuda:0')\n",
      "500\n",
      "accuracy:: 1.0\n"
     ]
    }
   ],
   "source": [
    "eval_model(sc, test_dataloader)"
   ]
  },
  {
   "cell_type": "code",
   "execution_count": 31,
   "metadata": {},
   "outputs": [
    {
     "data": {
      "text/plain": [
       "OrderedDict([('linear1.weight',\n",
       "              tensor([[ 0.9464,  0.9625],\n",
       "                      [-2.8222,  2.5893],\n",
       "                      [ 0.7809, -0.9307],\n",
       "                      [ 2.2222, -2.5380]], device='cuda:0')),\n",
       "             ('linear1.bias',\n",
       "              tensor([ 0.3749, -1.2432, -0.3460, -1.0669], device='cuda:0')),\n",
       "             ('linear2.weight',\n",
       "              tensor([[1.5257, 3.5537, 0.7039, 3.1434]], device='cuda:0')),\n",
       "             ('linear2.bias', tensor([1.9687], device='cuda:0'))])"
      ]
     },
     "execution_count": 31,
     "metadata": {},
     "output_type": "execute_result"
    }
   ],
   "source": [
    "sc.state_dict()"
   ]
  },
  {
   "cell_type": "code",
   "execution_count": 34,
   "metadata": {},
   "outputs": [
    {
     "name": "stdout",
     "output_type": "stream",
     "text": [
      "tensor([0.1216, 0.4667, 0.7059, 1.0000], device='cuda:0')\n"
     ]
    }
   ],
   "source": [
    "from matplotlib.colors import to_rgba\n",
    "   \n",
    "c0 = torch.Tensor(to_rgba(\"C0\")).to(device)\n",
    "c1 = torch.Tensor(to_rgba(\"C1\")).to(device)\n",
    "print(c0)"
   ]
  },
  {
   "cell_type": "code",
   "execution_count": 41,
   "metadata": {},
   "outputs": [
    {
     "name": "stdout",
     "output_type": "stream",
     "text": [
      "torch.Size([200])\n"
     ]
    }
   ],
   "source": [
    "x1 = torch.arange(-0.5, 1.5, step=0.01, device=device)\n",
    "x2 = torch.arange(-0.5, 1.5, step=0.01, device=device)\n",
    "print(x1.shape)\n"
   ]
  },
  {
   "cell_type": "code",
   "execution_count": 42,
   "metadata": {},
   "outputs": [
    {
     "name": "stdout",
     "output_type": "stream",
     "text": [
      "torch.Size([200, 200])\n"
     ]
    },
    {
     "data": {
      "text/plain": [
       "torch.Size([200, 200, 2])"
      ]
     },
     "execution_count": 42,
     "metadata": {},
     "output_type": "execute_result"
    }
   ],
   "source": [
    "xx1, xx2 = torch.meshgrid(x1, x2, indexing='ij')  \n",
    "print(xx1.shape)# Meshgrid function as in numpy\n",
    "model_inputs = torch.stack([xx1, xx2], dim=-1)\n",
    "model_inputs.shape"
   ]
  },
  {
   "cell_type": "code",
   "execution_count": 44,
   "metadata": {},
   "outputs": [
    {
     "name": "stdout",
     "output_type": "stream",
     "text": [
      "tensor([0, 1, 2]) tensor([4, 5, 6])\n",
      "X:\n",
      "tensor([[0, 0, 0],\n",
      "        [1, 1, 1],\n",
      "        [2, 2, 2]])\n",
      "Y:\n",
      "tensor([[4, 5, 6],\n",
      "        [4, 5, 6],\n",
      "        [4, 5, 6]])\n"
     ]
    }
   ],
   "source": [
    "x = torch.arange(0, 3)\n",
    "y = torch.arange(4, 7)\n",
    "print(x,y)\n",
    "# Create meshgrid\n",
    "X, Y = torch.meshgrid(x, y)\n",
    "\n",
    "# Print the result\n",
    "print(\"X:\")\n",
    "print(X)\n",
    "print(\"Y:\")\n",
    "print(Y)"
   ]
  },
  {
   "cell_type": "code",
   "execution_count": 50,
   "metadata": {},
   "outputs": [
    {
     "data": {
      "text/plain": [
       "tensor([[[0, 4],\n",
       "         [0, 5],\n",
       "         [0, 6]],\n",
       "\n",
       "        [[1, 4],\n",
       "         [1, 5],\n",
       "         [1, 6]],\n",
       "\n",
       "        [[2, 4],\n",
       "         [2, 5],\n",
       "         [2, 6]]])"
      ]
     },
     "execution_count": 50,
     "metadata": {},
     "output_type": "execute_result"
    }
   ],
   "source": [
    "tt = torch.stack([X, Y], dim=-1)\n",
    "tt"
   ]
  },
  {
   "cell_type": "code",
   "execution_count": 51,
   "metadata": {},
   "outputs": [
    {
     "data": {
      "text/plain": [
       "torch.Size([3, 3, 2])"
      ]
     },
     "execution_count": 51,
     "metadata": {},
     "output_type": "execute_result"
    }
   ],
   "source": [
    "tt.shape"
   ]
  },
  {
   "cell_type": "code",
   "execution_count": 54,
   "metadata": {},
   "outputs": [
    {
     "ename": "NameError",
     "evalue": "name 'model' is not defined",
     "output_type": "error",
     "traceback": [
      "\u001b[0;31m---------------------------------------------------------------------------\u001b[0m",
      "\u001b[0;31mNameError\u001b[0m                                 Traceback (most recent call last)",
      "Cell \u001b[0;32mIn[54], line 34\u001b[0m\n\u001b[1;32m     31\u001b[0m     plt\u001b[38;5;241m.\u001b[39mgrid(\u001b[38;5;28;01mFalse\u001b[39;00m)\n\u001b[1;32m     32\u001b[0m     \u001b[38;5;28;01mreturn\u001b[39;00m fig\n\u001b[0;32m---> 34\u001b[0m _ \u001b[38;5;241m=\u001b[39m visualize_classification(\u001b[43mmodel\u001b[49m, dataset\u001b[38;5;241m.\u001b[39mdata, dataset\u001b[38;5;241m.\u001b[39mlabel)\n\u001b[1;32m     35\u001b[0m plt\u001b[38;5;241m.\u001b[39mshow()\n",
      "\u001b[0;31mNameError\u001b[0m: name 'model' is not defined"
     ]
    }
   ],
   "source": [
    "@torch.no_grad() # Decorator, same effect as \"with torch.no_grad(): ...\" over the whole function.\n",
    "def visualize_classification(model, data, label):\n",
    "    if isinstance(data, torch.Tensor):\n",
    "        data = data.cpu().numpy()\n",
    "    if isinstance(label, torch.Tensor):\n",
    "        label = label.cpu().numpy()\n",
    "    data_0 = data[label == 0]\n",
    "    data_1 = data[label == 1]\n",
    "\n",
    "    fig = plt.figure(figsize=(4,4), dpi=500)\n",
    "    plt.scatter(data_0[:,0], data_0[:,1], edgecolor=\"#333\", label=\"Class 0\")\n",
    "    plt.scatter(data_1[:,0], data_1[:,1], edgecolor=\"#333\", label=\"Class 1\")\n",
    "    plt.title(\"Dataset samples\")\n",
    "    plt.ylabel(r\"$x_2$\")\n",
    "    plt.xlabel(r\"$x_1$\")\n",
    "    plt.legend()\n",
    "\n",
    "    # Let's make use of a lot of operations we have learned above\n",
    "    model.to(device)\n",
    "    c0 = torch.Tensor(to_rgba(\"C0\")).to(device)\n",
    "    c1 = torch.Tensor(to_rgba(\"C1\")).to(device)\n",
    "    x1 = torch.arange(-0.5, 1.5, step=0.01, device=device)\n",
    "    x2 = torch.arange(-0.5, 1.5, step=0.01, device=device)\n",
    "    xx1, xx2 = torch.meshgrid(x1, x2, indexing='ij')  # Meshgrid function as in numpy\n",
    "    model_inputs = torch.stack([xx1, xx2], dim=-1)\n",
    "    preds = model(model_inputs)\n",
    "    preds = torch.sigmoid(preds)\n",
    "    output_image = (1 - preds) * c0[None,None] + preds * c1[None,None]  # Specifying \"None\" in a dimension creates a new one\n",
    "    output_image = output_image.cpu().numpy()  # Convert to numpy array. This only works for tensors on CPU, hence first push to CPU\n",
    "    plt.imshow(output_image, origin='lower', extent=(-0.5, 1.5, -0.5, 1.5))\n",
    "    plt.grid(False)\n",
    "    return fig\n",
    "\n",
    "_ = visualize_classification(sc, dataset.data, dataset.label)\n",
    "plt.show()"
   ]
  },
  {
   "cell_type": "code",
   "execution_count": 53,
   "metadata": {},
   "outputs": [],
   "source": [
    "def train_model_with_logger(model, optimizer, data_loader, loss_module, val_dataset, num_epochs=100, logging_dir='runs/our_experiment'):\n",
    "    # Create TensorBoard logger\n",
    "    writer = SummaryWriter(logging_dir)\n",
    "    model_plotted = False\n",
    "\n",
    "    # Set model to train mode\n",
    "    model.train()\n",
    "\n",
    "    # Training loop\n",
    "    for epoch in tqdm(range(num_epochs)):\n",
    "        epoch_loss = 0.0\n",
    "        for data_inputs, data_labels in data_loader:\n",
    "\n",
    "            ## Step 1: Move input data to device (only strictly necessary if we use GPU)\n",
    "            data_inputs = data_inputs.to(device)\n",
    "            data_labels = data_labels.to(device)\n",
    "\n",
    "            # For the very first batch, we visualize the computation graph in TensorBoard\n",
    "            if not model_plotted:\n",
    "                writer.add_graph(model, data_inputs)\n",
    "                model_plotted = True\n",
    "\n",
    "            ## Step 2: Run the model on the input data\n",
    "            preds = model(data_inputs)\n",
    "            preds = preds.squeeze(dim=1) # Output is [Batch size, 1], but we want [Batch size]\n",
    "\n",
    "            ## Step 3: Calculate the loss\n",
    "            loss = loss_module(preds, data_labels.float())\n",
    "\n",
    "            ## Step 4: Perform backpropagation\n",
    "            # Before calculating the gradients, we need to ensure that they are all zero.\n",
    "            # The gradients would not be overwritten, but actually added to the existing ones.\n",
    "            optimizer.zero_grad()\n",
    "            # Perform backpropagation\n",
    "            loss.backward()\n",
    "\n",
    "            ## Step 5: Update the parameters\n",
    "            optimizer.step()\n",
    "\n",
    "            ## Step 6: Take the running average of the loss\n",
    "            epoch_loss += loss.item()\n",
    "\n",
    "        # Add average loss to TensorBoard\n",
    "        epoch_loss /= len(data_loader)\n",
    "        writer.add_scalar('training_loss',\n",
    "                          epoch_loss,\n",
    "                          global_step = epoch + 1)\n",
    "\n",
    "        # Visualize prediction and add figure to TensorBoard\n",
    "        # Since matplotlib figures can be slow in rendering, we only do it every 10th epoch\n",
    "        if (epoch + 1) % 10 == 0:\n",
    "            fig = visualize_classification(model, val_dataset.data, val_dataset.label)\n",
    "            writer.add_figure('predictions',\n",
    "                              fig,\n",
    "                              global_step = epoch + 1)\n",
    "\n",
    "    writer.close()"
   ]
  }
 ],
 "metadata": {
  "kernelspec": {
   "display_name": "lrenv",
   "language": "python",
   "name": "python3"
  },
  "language_info": {
   "codemirror_mode": {
    "name": "ipython",
    "version": 3
   },
   "file_extension": ".py",
   "mimetype": "text/x-python",
   "name": "python",
   "nbconvert_exporter": "python",
   "pygments_lexer": "ipython3",
   "version": "3.10.13"
  }
 },
 "nbformat": 4,
 "nbformat_minor": 2
}
