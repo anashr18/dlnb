{
 "cells": [
  {
   "cell_type": "code",
   "execution_count": 1,
   "metadata": {},
   "outputs": [],
   "source": [
    "import torch\n",
    "import numpy as np\n",
    "import torch.nn as nn"
   ]
  },
  {
   "cell_type": "code",
   "execution_count": 2,
   "metadata": {},
   "outputs": [
    {
     "data": {
      "text/plain": [
       "device(type='cuda')"
      ]
     },
     "execution_count": 2,
     "metadata": {},
     "output_type": "execute_result"
    }
   ],
   "source": [
    "DATASET_PATH = \"../data\"\n",
    "CHECKPOINT_PATH = \"../saved_models/T3\"\n",
    "\n",
    "def set_seed(seed):\n",
    "    np.random.seed(seed)\n",
    "    torch.manual_seed(seed)\n",
    "    if torch.cuda.is_available():\n",
    "        torch.cuda.manual_seed(seed)\n",
    "        torch.cuda.manual_seed_all(seed)\n",
    "set_seed(42)\n",
    "torch.backends.cudnn.deterministic = True\n",
    "torch.backends.cudnn.benchmark = False\n",
    "device = torch.device('cuda') if torch.cuda.is_available() else torch.device('cpu')\n",
    "device"
   ]
  },
  {
   "cell_type": "code",
   "execution_count": 3,
   "metadata": {},
   "outputs": [],
   "source": [
    "import urllib.request\n",
    "from urllib.error import HTTPError\n",
    "import os\n",
    "base_url = \"https://raw.githubusercontent.com/phlippe/saved_models/main/tutorial3/\"\n",
    "\n",
    "pretrained_files = [\"FashionMNIST_elu.config\", \"FashionMNIST_elu.tar\",\n",
    "                    \"FashionMNIST_leakyrelu.config\", \"FashionMNIST_leakyrelu.tar\",\n",
    "                    \"FashionMNIST_relu.config\", \"FashionMNIST_relu.tar\",\n",
    "                    \"FashionMNIST_sigmoid.config\", \"FashionMNIST_sigmoid.tar\",\n",
    "                    \"FashionMNIST_swish.config\", \"FashionMNIST_swish.tar\",\n",
    "                    \"FashionMNIST_tanh.config\", \"FashionMNIST_tanh.tar\"]\n",
    "os.makedirs(CHECKPOINT_PATH, exist_ok=True)\n",
    "\n",
    "for file_name in pretrained_files:\n",
    "    file_path = os.path.join(CHECKPOINT_PATH, file_name)\n",
    "    if not os.path.isfile(file_path):\n",
    "        file_url = base_url + file_name\n",
    "        print(f'downloading..{file_url}')\n",
    "        try:\n",
    "            urllib.request.urlretrieve(file_url, file_path)\n",
    "        except HTTPError as e:\n",
    "            print(\"something went wrong..{e}\")"
   ]
  },
  {
   "cell_type": "code",
   "execution_count": 4,
   "metadata": {},
   "outputs": [],
   "source": [
    "class ActivationFunction(nn.Module):\n",
    "    def __init__(self):\n",
    "        super().__init__() \n",
    "        self.name = self.__class__.__name__\n",
    "        self.config = {\"name\":self.name}"
   ]
  },
  {
   "cell_type": "code",
   "execution_count": 5,
   "metadata": {},
   "outputs": [],
   "source": [
    "class Sigmoid(ActivationFunction):\n",
    "    def forward(self, x):\n",
    "        return 1/(1+torch.exp(-x))"
   ]
  },
  {
   "cell_type": "code",
   "execution_count": 6,
   "metadata": {},
   "outputs": [
    {
     "data": {
      "text/plain": [
       "({'name': 'Sigmoid'}, 'Sigmoid', tensor(0.8808))"
      ]
     },
     "execution_count": 6,
     "metadata": {},
     "output_type": "execute_result"
    }
   ],
   "source": [
    "sig = Sigmoid()\n",
    "sig.config, sig.name, sig.forward(torch.tensor(2))"
   ]
  },
  {
   "cell_type": "code",
   "execution_count": 7,
   "metadata": {},
   "outputs": [],
   "source": [
    "class Tanh(ActivationFunction):\n",
    "    def forward(self, x):\n",
    "        exp, neg_exp = torch.exp(x), torch.exp(-x)\n",
    "        return (exp-neg_exp)/(exp+neg_exp) "
   ]
  },
  {
   "cell_type": "code",
   "execution_count": 8,
   "metadata": {},
   "outputs": [
    {
     "data": {
      "text/plain": [
       "tensor([20.,  1., -0.])"
      ]
     },
     "execution_count": 8,
     "metadata": {},
     "output_type": "execute_result"
    }
   ],
   "source": [
    "class Relu(ActivationFunction):\n",
    "    def forward(self, x):\n",
    "        return x * (x>0).float()\n",
    "relu = Relu()\n",
    "relu.forward(torch.Tensor([20,1,-8]))"
   ]
  },
  {
   "cell_type": "code",
   "execution_count": 9,
   "metadata": {},
   "outputs": [
    {
     "data": {
      "text/plain": [
       "tensor([20.0000,  1.0000, -0.8000])"
      ]
     },
     "execution_count": 9,
     "metadata": {},
     "output_type": "execute_result"
    }
   ],
   "source": [
    "class LeakyRelu(ActivationFunction):\n",
    "    def __init__(self, alpha=0.1):\n",
    "        super().__init__()\n",
    "        self.config['alpha'] = alpha\n",
    "    def forward(self, x):\n",
    "        return torch.where(x > 0, x , x*self.config['alpha'])\n",
    "    \n",
    "lr = LeakyRelu()\n",
    "lr.forward(torch.Tensor([20,1,-8]))"
   ]
  },
  {
   "cell_type": "code",
   "execution_count": 10,
   "metadata": {},
   "outputs": [],
   "source": [
    "t = torch.Tensor([20,1,-8])"
   ]
  },
  {
   "cell_type": "code",
   "execution_count": 11,
   "metadata": {},
   "outputs": [
    {
     "data": {
      "text/plain": [
       "(tensor([20.0000,  1.0000, -0.9997]), tensor([20.0000,  1.0000, -0.9997]))"
      ]
     },
     "execution_count": 11,
     "metadata": {},
     "output_type": "execute_result"
    }
   ],
   "source": [
    "class ELU(ActivationFunction):\n",
    "    def forward(self, x):\n",
    "        return torch.where(x>0, x, torch.exp(x)-1)\n",
    "elu = ELU()\n",
    "elu.forward(t), elu(t)\n"
   ]
  },
  {
   "cell_type": "code",
   "execution_count": 12,
   "metadata": {},
   "outputs": [],
   "source": [
    "class Swish(ActivationFunction):\n",
    "    def forward(self, x):\n",
    "        return x*torch.sigmoid(x)"
   ]
  },
  {
   "cell_type": "code",
   "execution_count": 13,
   "metadata": {},
   "outputs": [],
   "source": [
    "act_fn_by_name = {\n",
    "    \"sigmoid\": Sigmoid,\n",
    "    \"tanh\": Tanh,\n",
    "    \"relu\": Relu,   \n",
    "    \"leakyrelu\": LeakyRelu,\n",
    "    \"elu\": ELU,\n",
    "    \"swish\": Swish\n",
    "}"
   ]
  },
  {
   "cell_type": "code",
   "execution_count": 14,
   "metadata": {},
   "outputs": [],
   "source": [
    "def get_grads(act_fn, x):\n",
    "    x = x.clone().requires_grad_()\n",
    "    out = act_fn(x)\n",
    "    out.sum().backward()\n",
    "    print(x.grad)\n",
    "    return x.grad"
   ]
  },
  {
   "cell_type": "code",
   "execution_count": 15,
   "metadata": {},
   "outputs": [
    {
     "name": "stdout",
     "output_type": "stream",
     "text": [
      "tensor([ 1.0000,  0.9277, -0.0023])\n"
     ]
    },
    {
     "data": {
      "text/plain": [
       "tensor([ 1.0000,  0.9277, -0.0023])"
      ]
     },
     "execution_count": 15,
     "metadata": {},
     "output_type": "execute_result"
    }
   ],
   "source": [
    "get_grads(Swish(), t)"
   ]
  },
  {
   "cell_type": "code",
   "execution_count": 16,
   "metadata": {},
   "outputs": [
    {
     "data": {
      "image/png": "[encoded data removed]",
      "text/plain": [
       "<Figure size 640x480 with 1 Axes>"
      ]
     },
     "metadata": {},
     "output_type": "display_data"
    }
   ],
   "source": [
    "import matplotlib.pyplot as plt\n",
    "import numpy as np\n",
    "\n",
    "# Define the function and its derivative\n",
    "def f(x):\n",
    "    return x ** 2\n",
    "\n",
    "def f_prime(x):\n",
    "    return 2 * x\n",
    "\n",
    "# Generate x values\n",
    "x = np.linspace(-5, 5, 100)\n",
    "\n",
    "# Calculate y values for the function and its derivative\n",
    "y = f(x)\n",
    "y_prime = f_prime(x)\n",
    "\n",
    "# Create a figure and an axes object\n",
    "fig, ax = plt.subplots()\n",
    "\n",
    "# Plot the function and its derivative using the axes object\n",
    "ax.plot(x, y, label=\"f(x) = x^2\")\n",
    "ax.plot(x, y_prime, label=\"f'(x) = 2x\")\n",
    "\n",
    "# Add a legend and titles\n",
    "ax.legend()\n",
    "ax.set_title(\"Function and its Derivative\")\n",
    "ax.set_xlabel(\"x\")\n",
    "ax.set_ylabel(\"y\")\n",
    "\n",
    "# Display the plot\n",
    "plt.show()\n"
   ]
  },
  {
   "cell_type": "code",
   "execution_count": 17,
   "metadata": {},
   "outputs": [],
   "source": [
    "def vis_act_fn(act_fn, ax, x):\n",
    "    y = act_fn(x)\n",
    "    y_grads = get_grads(act_fn, x)\n",
    "    \n",
    "    "
   ]
  }
 ],
 "metadata": {
  "kernelspec": {
   "display_name": "lrenv",
   "language": "python",
   "name": "python3"
  },
  "language_info": {
   "codemirror_mode": {
    "name": "ipython",
    "version": 3
   },
   "file_extension": ".py",
   "mimetype": "text/x-python",
   "name": "python",
   "nbconvert_exporter": "python",
   "pygments_lexer": "ipython3",
   "version": "3.10.13"
  }
 },
 "nbformat": 4,
 "nbformat_minor": 2
}
